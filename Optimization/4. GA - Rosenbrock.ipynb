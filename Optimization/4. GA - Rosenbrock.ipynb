{
 "cells": [
  {
   "cell_type": "markdown",
   "metadata": {
    "id": "CcoM7iqOSG-H"
   },
   "source": [
    "Real Coded Genetic Algorithm which minimizes the Rosenbrock function"
   ]
  },
  {
   "cell_type": "code",
   "execution_count": 1,
   "metadata": {
    "executionInfo": {
     "elapsed": 1939,
     "status": "ok",
     "timestamp": 1606825890714,
     "user": {
      "displayName": "Harshit Agrawal",
      "photoUrl": "https://lh3.googleusercontent.com/a-/AOh14GhQHZInbQtl9pqrW8okG5d5QDZt0PGrrN60eh7RRQ=s64",
      "userId": "06025857170633647648"
     },
     "user_tz": -330
    },
    "id": "6DjCri-3VyZG"
   },
   "outputs": [],
   "source": [
    "import numpy as np\n",
    "import matplotlib.pyplot as plt"
   ]
  },
  {
   "cell_type": "markdown",
   "metadata": {
    "id": "FLoElaFLjZr1"
   },
   "source": [
    "### Functions"
   ]
  },
  {
   "cell_type": "code",
   "execution_count": 2,
   "metadata": {
    "executionInfo": {
     "elapsed": 1936,
     "status": "ok",
     "timestamp": 1606825890715,
     "user": {
      "displayName": "Harshit Agrawal",
      "photoUrl": "https://lh3.googleusercontent.com/a-/AOh14GhQHZInbQtl9pqrW8okG5d5QDZt0PGrrN60eh7RRQ=s64",
      "userId": "06025857170633647648"
     },
     "user_tz": -330
    },
    "id": "VG0vPuSUXMsp"
   },
   "outputs": [],
   "source": [
    "def get_fitness(population):\n",
    "    size = population.shape[0]\n",
    "    fitness = np.zeros(size)\n",
    "\n",
    "    for i in range(size):\n",
    "        x, y = chromosome_to_real_values(population[i])\n",
    "        fitness[i] = Rosenbrock(x, y)\n",
    "\n",
    "    return fitness"
   ]
  },
  {
   "cell_type": "code",
   "execution_count": 3,
   "metadata": {
    "executionInfo": {
     "elapsed": 3189,
     "status": "ok",
     "timestamp": 1606825891971,
     "user": {
      "displayName": "Harshit Agrawal",
      "photoUrl": "https://lh3.googleusercontent.com/a-/AOh14GhQHZInbQtl9pqrW8okG5d5QDZt0PGrrN60eh7RRQ=s64",
      "userId": "06025857170633647648"
     },
     "user_tz": -330
    },
    "id": "IAHAu_nKXc4X"
   },
   "outputs": [],
   "source": [
    "def selection(fitness, type):\n",
    "    if type == 'tournament':\n",
    "        size = fitness.shape[0]\n",
    "        selected_indices = np.zeros(size, dtype='int')\n",
    "        indices = range(size)\n",
    "\n",
    "        index = 0\n",
    "        for _ in range(2):\n",
    "            for parent_1, parent_2 in zip(indices[0::2], indices[1::2]):\n",
    "                winner = parent_2\n",
    "                if(fitness[parent_1] < fitness[parent_2]): winner = parent_1\n",
    "                selected_indices[index] = winner\n",
    "                index += 1\n",
    "        \n",
    "        return selected_indices"
   ]
  },
  {
   "cell_type": "code",
   "execution_count": 4,
   "metadata": {
    "executionInfo": {
     "elapsed": 3187,
     "status": "ok",
     "timestamp": 1606825891972,
     "user": {
      "displayName": "Harshit Agrawal",
      "photoUrl": "https://lh3.googleusercontent.com/a-/AOh14GhQHZInbQtl9pqrW8okG5d5QDZt0PGrrN60eh7RRQ=s64",
      "userId": "06025857170633647648"
     },
     "user_tz": -330
    },
    "id": "hlTItpu_btBv"
   },
   "outputs": [],
   "source": [
    "def crossover(pool, type):\n",
    "    if type == 'point':\n",
    "        size = pool.shape[0]\n",
    "        new_population = np.zeros(pool.shape, dtype='int')\n",
    "\n",
    "        for i in range(0, size, 2):\n",
    "            parent_1, parent_2 = pool[i], pool[i+1]\n",
    "            idx = np.random.randint(1,size-1)\n",
    "\n",
    "            new_population[i, 0:idx] = parent_1[0:idx]\n",
    "            new_population[i, idx:] = parent_2[idx:]\n",
    "            new_population[i+1, 0:idx] = parent_2[0:idx]\n",
    "            new_population[i+1, idx:] = parent_1[idx:]\n",
    "        \n",
    "        return new_population"
   ]
  },
  {
   "cell_type": "code",
   "execution_count": 5,
   "metadata": {
    "executionInfo": {
     "elapsed": 3186,
     "status": "ok",
     "timestamp": 1606825891973,
     "user": {
      "displayName": "Harshit Agrawal",
      "photoUrl": "https://lh3.googleusercontent.com/a-/AOh14GhQHZInbQtl9pqrW8okG5d5QDZt0PGrrN60eh7RRQ=s64",
      "userId": "06025857170633647648"
     },
     "user_tz": -330
    },
    "id": "SuN2Pt7Yeoqj"
   },
   "outputs": [],
   "source": [
    "def mutate(population, type, p):\n",
    "    if type == 'per_nuclei':\n",
    "        temp = np.random.choice([0,1], size=population.shape, p=(1-p,p), replace=True)\n",
    "        population = population + temp\n",
    "        population = np.mod(population, 2)\n",
    "        return population"
   ]
  },
  {
   "cell_type": "markdown",
   "metadata": {
    "id": "prpyEpky0oVJ"
   },
   "source": [
    "### Rosenbrock"
   ]
  },
  {
   "cell_type": "code",
   "execution_count": 6,
   "metadata": {
    "executionInfo": {
     "elapsed": 3185,
     "status": "ok",
     "timestamp": 1606825891974,
     "user": {
      "displayName": "Harshit Agrawal",
      "photoUrl": "https://lh3.googleusercontent.com/a-/AOh14GhQHZInbQtl9pqrW8okG5d5QDZt0PGrrN60eh7RRQ=s64",
      "userId": "06025857170633647648"
     },
     "user_tz": -330
    },
    "id": "U-hRCnRj0rCX"
   },
   "outputs": [],
   "source": [
    "def Rosenbrock(x, y):\n",
    "    a, b = 1, 100\n",
    "    return ( ((a-x)**2) + (b*(y-x**2)**2) )"
   ]
  },
  {
   "cell_type": "code",
   "execution_count": 7,
   "metadata": {
    "executionInfo": {
     "elapsed": 3183,
     "status": "ok",
     "timestamp": 1606825891975,
     "user": {
      "displayName": "Harshit Agrawal",
      "photoUrl": "https://lh3.googleusercontent.com/a-/AOh14GhQHZInbQtl9pqrW8okG5d5QDZt0PGrrN60eh7RRQ=s64",
      "userId": "06025857170633647648"
     },
     "user_tz": -330
    },
    "id": "IrH-AzHX0v-8"
   },
   "outputs": [],
   "source": [
    "def real_num(array, func_range):\n",
    "    dec = np.sum([(2**i)*array[i] for i in range(len(array))])\n",
    "    real = func_range[0] + ((func_range[1]-func_range[0]) / ((2**len(array))-1)) * dec\n",
    "    return real"
   ]
  },
  {
   "cell_type": "code",
   "execution_count": 8,
   "metadata": {
    "executionInfo": {
     "elapsed": 3181,
     "status": "ok",
     "timestamp": 1606825891975,
     "user": {
      "displayName": "Harshit Agrawal",
      "photoUrl": "https://lh3.googleusercontent.com/a-/AOh14GhQHZInbQtl9pqrW8okG5d5QDZt0PGrrN60eh7RRQ=s64",
      "userId": "06025857170633647648"
     },
     "user_tz": -330
    },
    "id": "CuwCxim1-3Xr"
   },
   "outputs": [],
   "source": [
    "def chromosome_to_real_values(chromosome):\n",
    "    size = len(chromosome)\n",
    "    a = chromosome[:size//2]\n",
    "    b = chromosome[size//2:]\n",
    "    \n",
    "    x = real_num(a, func_range)\n",
    "    y = real_num(b, func_range)\n",
    "    \n",
    "    return (x,y)"
   ]
  },
  {
   "cell_type": "markdown",
   "metadata": {
    "id": "MG5Yiy96jeH9"
   },
   "source": [
    "### Main"
   ]
  },
  {
   "cell_type": "code",
   "execution_count": 9,
   "metadata": {
    "executionInfo": {
     "elapsed": 3180,
     "status": "ok",
     "timestamp": 1606825891976,
     "user": {
      "displayName": "Harshit Agrawal",
      "photoUrl": "https://lh3.googleusercontent.com/a-/AOh14GhQHZInbQtl9pqrW8okG5d5QDZt0PGrrN60eh7RRQ=s64",
      "userId": "06025857170633647648"
     },
     "user_tz": -330
    },
    "id": "nzxaTOeQV5pp"
   },
   "outputs": [],
   "source": [
    "func_range = (-1,1)\n",
    "a, b = 1, 100\n",
    "\n",
    "population_size = 20\n",
    "chromosome_size = 10\n",
    "num_generations = 100\n",
    "\n",
    "initial_p = 0.2\n",
    "mutation_p = 0.05"
   ]
  },
  {
   "cell_type": "code",
   "execution_count": 10,
   "metadata": {
    "executionInfo": {
     "elapsed": 3179,
     "status": "ok",
     "timestamp": 1606825891977,
     "user": {
      "displayName": "Harshit Agrawal",
      "photoUrl": "https://lh3.googleusercontent.com/a-/AOh14GhQHZInbQtl9pqrW8okG5d5QDZt0PGrrN60eh7RRQ=s64",
      "userId": "06025857170633647648"
     },
     "user_tz": -330
    },
    "id": "y5wwVzdMarP_"
   },
   "outputs": [],
   "source": [
    "generations = np.zeros((num_generations, population_size, chromosome_size))\n",
    "fitness_generations = np.zeros((num_generations, population_size))"
   ]
  },
  {
   "cell_type": "code",
   "execution_count": 11,
   "metadata": {
    "executionInfo": {
     "elapsed": 3178,
     "status": "ok",
     "timestamp": 1606825891978,
     "user": {
      "displayName": "Harshit Agrawal",
      "photoUrl": "https://lh3.googleusercontent.com/a-/AOh14GhQHZInbQtl9pqrW8okG5d5QDZt0PGrrN60eh7RRQ=s64",
      "userId": "06025857170633647648"
     },
     "user_tz": -330
    },
    "id": "USPX2I85WdxF"
   },
   "outputs": [],
   "source": [
    "population = np.random.choice([0,1], size=(population_size, chromosome_size), p=(1-initial_p, initial_p), replace=True)\n",
    "fitness_population = get_fitness(population)\n",
    "\n",
    "generations[0,:,:] = population[:,:]\n",
    "fitness_generations[0,:] = fitness_population[:]"
   ]
  },
  {
   "cell_type": "code",
   "execution_count": 12,
   "metadata": {
    "executionInfo": {
     "elapsed": 3177,
     "status": "ok",
     "timestamp": 1606825891979,
     "user": {
      "displayName": "Harshit Agrawal",
      "photoUrl": "https://lh3.googleusercontent.com/a-/AOh14GhQHZInbQtl9pqrW8okG5d5QDZt0PGrrN60eh7RRQ=s64",
      "userId": "06025857170633647648"
     },
     "user_tz": -330
    },
    "id": "l71Fr57xicJG"
   },
   "outputs": [],
   "source": [
    "for i in range(1,num_generations):\n",
    "    selected_individuals = selection(fitness_population, 'tournament')\n",
    "    crossed_chromosomes = crossover(population[selected_individuals], 'point')\n",
    "    mutated_chromosomes = mutate(crossed_chromosomes, 'per_nuclei', mutation_p)\n",
    "\n",
    "    population[:,:] = mutated_chromosomes[:,:]\n",
    "    fitness_population = get_fitness(population)\n",
    "\n",
    "    generations[i,:,:] = population[:,:]\n",
    "    fitness_generations[i,:] = fitness_population[:]"
   ]
  },
  {
   "cell_type": "markdown",
   "metadata": {
    "id": "bn88MfSLjr9s"
   },
   "source": [
    "### Analysis"
   ]
  },
  {
   "cell_type": "code",
   "execution_count": 13,
   "metadata": {
    "colab": {
     "base_uri": "https://localhost:8080/",
     "height": 0
    },
    "executionInfo": {
     "elapsed": 3165,
     "status": "ok",
     "timestamp": 1606825891980,
     "user": {
      "displayName": "Harshit Agrawal",
      "photoUrl": "https://lh3.googleusercontent.com/a-/AOh14GhQHZInbQtl9pqrW8okG5d5QDZt0PGrrN60eh7RRQ=s64",
      "userId": "06025857170633647648"
     },
     "user_tz": -330
    },
    "id": "vy2KeYe2SOXG",
    "outputId": "888d8006-16fe-4291-f539-ab6cba5f59e5"
   },
   "outputs": [
    {
     "data": {
      "text/plain": [
       "Text(0, 0.5, 'Value of Rosenbrock function')"
      ]
     },
     "execution_count": 13,
     "metadata": {
      "tags": []
     },
     "output_type": "execute_result"
    },
    {
     "data": {
      "image/png": "[encoded data removed]",
      "text/plain": [
       "<Figure size 432x288 with 1 Axes>"
      ]
     },
     "metadata": {
      "needs_background": "light",
      "tags": []
     },
     "output_type": "display_data"
    }
   ],
   "source": [
    "plt.plot(np.min(fitness_generations, axis=1))\n",
    "plt.title('Min value of Rosenbrock function for each Generation')\n",
    "plt.xlabel('Generations')\n",
    "plt.ylabel('Value of Rosenbrock function')"
   ]
  },
  {
   "cell_type": "code",
   "execution_count": 14,
   "metadata": {
    "colab": {
     "base_uri": "https://localhost:8080/",
     "height": 70
    },
    "executionInfo": {
     "elapsed": 3159,
     "status": "ok",
     "timestamp": 1606825891981,
     "user": {
      "displayName": "Harshit Agrawal",
      "photoUrl": "https://lh3.googleusercontent.com/a-/AOh14GhQHZInbQtl9pqrW8okG5d5QDZt0PGrrN60eh7RRQ=s64",
      "userId": "06025857170633647648"
     },
     "user_tz": -330
    },
    "id": "mXsF-ZnFRonM",
    "outputId": "84b0d6d0-d2b3-4344-827c-e83c560f3792"
   },
   "outputs": [
    {
     "data": {
      "text/plain": [
       "Text(0, 0.5, 'Value of Rosenbrock function')"
      ]
     },
     "execution_count": 14,
     "metadata": {
      "tags": []
     },
     "output_type": "execute_result"
    },
    {
     "data": {
      "image/png": "[encoded data removed]",
      "text/plain": [
       "<Figure size 432x288 with 1 Axes>"
      ]
     },
     "metadata": {
      "needs_background": "light",
      "tags": []
     },
     "output_type": "display_data"
    }
   ],
   "source": [
    "plt.plot(np.mean(fitness_generations, axis=1))\n",
    "plt.title('Mean value of Rosenbrock function for each Generation')\n",
    "plt.xlabel('Generations')\n",
    "plt.ylabel('Value of Rosenbrock function')"
   ]
  }
 ],
 "metadata": {
  "colab": {
   "authorship_tag": "ABX9TyOnXbdphA2iOCxo7MyH0ztA",
   "name": "4. GA - Rosenbrock.ipynb",
   "provenance": [
    {
     "file_id": "13xBLnbioYagbye6TRSU6n7Ergyygm3Qh",
     "timestamp": 1606817994369
    }
   ]
  },
  "kernelspec": {
   "display_name": "Python 3",
   "language": "python",
   "name": "python3"
  },
  "language_info": {
   "codemirror_mode": {
    "name": "ipython",
    "version": 3
   },
   "file_extension": ".py",
   "mimetype": "text/x-python",
   "name": "python",
   "nbconvert_exporter": "python",
   "pygments_lexer": "ipython3",
   "version": "3.7.9"
  }
 },
 "nbformat": 4,
 "nbformat_minor": 1
}
